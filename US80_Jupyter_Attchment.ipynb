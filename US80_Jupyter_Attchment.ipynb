{
 "cells": [
  {
   "cell_type": "code",
   "execution_count": 3,
   "id": "73b16a4a",
   "metadata": {},
   "outputs": [],
   "source": [
    "from pathlib import Path\n",
    "import pandas as pd\n",
    "import win32com.client as win32\n",
    "from pathlib import Path\n",
    "import os\n",
    "import datetime\n",
    "from win10toast import ToastNotifier"
   ]
  },
  {
   "cell_type": "code",
   "execution_count": 4,
   "id": "2f89e72a",
   "metadata": {},
   "outputs": [],
   "source": [
    "# Locate examples files & create output directory\n",
    "Excel_file_path = Path.cwd() / \"US80 Gateway.xlsx\"\n",
    "ATTACHMENT_DIR = Path.cwd() / \"US80_Attachments\"\n",
    "ATTACHMENT_DIR.mkdir(exist_ok=True)"
   ]
  },
  {
   "cell_type": "code",
   "execution_count": 5,
   "id": "0630ed71",
   "metadata": {},
   "outputs": [
    {
     "data": {
      "text/plain": [
       "WindowsPath('C:/Users/kendrav/OneDrive - Ecolab/13week EBS/US80/US80 Gateway.xlsx')"
      ]
     },
     "execution_count": 5,
     "metadata": {},
     "output_type": "execute_result"
    }
   ],
   "source": [
    "Excel_file_path"
   ]
  },
  {
   "cell_type": "code",
   "execution_count": 6,
   "id": "4dd9382b",
   "metadata": {},
   "outputs": [],
   "source": [
    "# Load data into dataframe\n",
    "data = pd.read_excel(Excel_file_path)"
   ]
  },
  {
   "cell_type": "code",
   "execution_count": 7,
   "id": "ec24fe89",
   "metadata": {},
   "outputs": [],
   "source": [
    "data['Delivery date']=data['Delivery date'].dt.strftime(\"%d-%m-%Y\")"
   ]
  },
  {
   "cell_type": "code",
   "execution_count": 8,
   "id": "ace94e0a",
   "metadata": {},
   "outputs": [
    {
     "data": {
      "text/html": [
       "<div>\n",
       "<style scoped>\n",
       "    .dataframe tbody tr th:only-of-type {\n",
       "        vertical-align: middle;\n",
       "    }\n",
       "\n",
       "    .dataframe tbody tr th {\n",
       "        vertical-align: top;\n",
       "    }\n",
       "\n",
       "    .dataframe thead th {\n",
       "        text-align: right;\n",
       "    }\n",
       "</style>\n",
       "<table border=\"1\" class=\"dataframe\">\n",
       "  <thead>\n",
       "    <tr style=\"text-align: right;\">\n",
       "      <th></th>\n",
       "      <th>Plant</th>\n",
       "      <th>Vendor</th>\n",
       "      <th>Vendor Name</th>\n",
       "      <th>Vendor mat.no.</th>\n",
       "      <th>Product</th>\n",
       "      <th>Purchase Grp</th>\n",
       "      <th>Product name</th>\n",
       "      <th>Delivery date</th>\n",
       "      <th>Forecast Qty</th>\n",
       "      <th>Purchase Order Number</th>\n",
       "      <th>Order Quantity Base UoM</th>\n",
       "      <th>PO UoM</th>\n",
       "      <th>Vendor_Name</th>\n",
       "    </tr>\n",
       "  </thead>\n",
       "  <tbody>\n",
       "    <tr>\n",
       "      <th>0</th>\n",
       "      <td>US80</td>\n",
       "      <td>1044476</td>\n",
       "      <td>A &amp; M INDUSTRIES</td>\n",
       "      <td>NaN</td>\n",
       "      <td>85170785</td>\n",
       "      <td>N71</td>\n",
       "      <td>NPL RDCG 1/2MNPTX3/8MNPT PP</td>\n",
       "      <td>21-02-2022</td>\n",
       "      <td>50.0</td>\n",
       "      <td>FORECAST</td>\n",
       "      <td>NaN</td>\n",
       "      <td>ST</td>\n",
       "      <td>A and M Industries</td>\n",
       "    </tr>\n",
       "    <tr>\n",
       "      <th>1</th>\n",
       "      <td>US80</td>\n",
       "      <td>1044476</td>\n",
       "      <td>A &amp; M INDUSTRIES</td>\n",
       "      <td>NaN</td>\n",
       "      <td>85170785</td>\n",
       "      <td>N71</td>\n",
       "      <td>NPL RDCG 1/2MNPTX3/8MNPT PP</td>\n",
       "      <td>18-04-2022</td>\n",
       "      <td>50.0</td>\n",
       "      <td>FORECAST</td>\n",
       "      <td>NaN</td>\n",
       "      <td>ST</td>\n",
       "      <td>A and M Industries</td>\n",
       "    </tr>\n",
       "    <tr>\n",
       "      <th>2</th>\n",
       "      <td>US80</td>\n",
       "      <td>1044476</td>\n",
       "      <td>A &amp; M INDUSTRIES</td>\n",
       "      <td>NaN</td>\n",
       "      <td>85170785</td>\n",
       "      <td>N71</td>\n",
       "      <td>NPL RDCG 1/2MNPTX3/8MNPT PP</td>\n",
       "      <td>16-05-2022</td>\n",
       "      <td>50.0</td>\n",
       "      <td>FORECAST</td>\n",
       "      <td>NaN</td>\n",
       "      <td>ST</td>\n",
       "      <td>A and M Industries</td>\n",
       "    </tr>\n",
       "    <tr>\n",
       "      <th>3</th>\n",
       "      <td>US80</td>\n",
       "      <td>1044476</td>\n",
       "      <td>A &amp; M INDUSTRIES</td>\n",
       "      <td>NaN</td>\n",
       "      <td>85170785</td>\n",
       "      <td>N71</td>\n",
       "      <td>NPL RDCG 1/2MNPTX3/8MNPT PP</td>\n",
       "      <td>13-06-2022</td>\n",
       "      <td>200.0</td>\n",
       "      <td>FORECAST</td>\n",
       "      <td>NaN</td>\n",
       "      <td>ST</td>\n",
       "      <td>A and M Industries</td>\n",
       "    </tr>\n",
       "    <tr>\n",
       "      <th>4</th>\n",
       "      <td>US80</td>\n",
       "      <td>1044476</td>\n",
       "      <td>A &amp; M INDUSTRIES</td>\n",
       "      <td>NaN</td>\n",
       "      <td>85170785</td>\n",
       "      <td>N71</td>\n",
       "      <td>NPL RDCG 1/2MNPTX3/8MNPT PP</td>\n",
       "      <td>01-08-2022</td>\n",
       "      <td>50.0</td>\n",
       "      <td>FORECAST</td>\n",
       "      <td>NaN</td>\n",
       "      <td>ST</td>\n",
       "      <td>A and M Industries</td>\n",
       "    </tr>\n",
       "  </tbody>\n",
       "</table>\n",
       "</div>"
      ],
      "text/plain": [
       "  Plant   Vendor       Vendor Name Vendor mat.no.   Product Purchase Grp  \\\n",
       "0  US80  1044476  A & M INDUSTRIES            NaN  85170785          N71   \n",
       "1  US80  1044476  A & M INDUSTRIES            NaN  85170785          N71   \n",
       "2  US80  1044476  A & M INDUSTRIES            NaN  85170785          N71   \n",
       "3  US80  1044476  A & M INDUSTRIES            NaN  85170785          N71   \n",
       "4  US80  1044476  A & M INDUSTRIES            NaN  85170785          N71   \n",
       "\n",
       "                  Product name Delivery date  Forecast Qty  \\\n",
       "0  NPL RDCG 1/2MNPTX3/8MNPT PP    21-02-2022          50.0   \n",
       "1  NPL RDCG 1/2MNPTX3/8MNPT PP    18-04-2022          50.0   \n",
       "2  NPL RDCG 1/2MNPTX3/8MNPT PP    16-05-2022          50.0   \n",
       "3  NPL RDCG 1/2MNPTX3/8MNPT PP    13-06-2022         200.0   \n",
       "4  NPL RDCG 1/2MNPTX3/8MNPT PP    01-08-2022          50.0   \n",
       "\n",
       "  Purchase Order Number  Order Quantity Base UoM PO UoM         Vendor_Name  \n",
       "0              FORECAST                      NaN     ST  A and M Industries  \n",
       "1              FORECAST                      NaN     ST  A and M Industries  \n",
       "2              FORECAST                      NaN     ST  A and M Industries  \n",
       "3              FORECAST                      NaN     ST  A and M Industries  \n",
       "4              FORECAST                      NaN     ST  A and M Industries  "
      ]
     },
     "execution_count": 8,
     "metadata": {},
     "output_type": "execute_result"
    }
   ],
   "source": [
    "data.head()"
   ]
  },
  {
   "cell_type": "code",
   "execution_count": 9,
   "id": "7b058738",
   "metadata": {},
   "outputs": [],
   "source": [
    "column_name = data.columns[12]\n",
    "unique_values = data[column_name].unique()"
   ]
  },
  {
   "cell_type": "code",
   "execution_count": 10,
   "id": "c1dde745",
   "metadata": {},
   "outputs": [
    {
     "data": {
      "text/plain": [
       "118"
      ]
     },
     "execution_count": 10,
     "metadata": {},
     "output_type": "execute_result"
    }
   ],
   "source": [
    "len(unique_values)"
   ]
  },
  {
   "cell_type": "code",
   "execution_count": 11,
   "id": "02b5eea5",
   "metadata": {},
   "outputs": [],
   "source": [
    "# Query/Filter the dataframe and export the filtered dataframe as an Excel file\n",
    "for unique_value in unique_values:\n",
    "    data_output = data[data[column_name]==unique_value]\n",
    "    output_path = ATTACHMENT_DIR / f\"US80_Roscoe_Forecast_{unique_value}.xlsx\"\n",
    "    data_output.to_excel(output_path, index=False)"
   ]
  },
  {
   "cell_type": "code",
   "execution_count": 12,
   "id": "c4808486",
   "metadata": {},
   "outputs": [
    {
     "data": {
      "text/plain": [
       "True"
      ]
     },
     "execution_count": 12,
     "metadata": {},
     "output_type": "execute_result"
    }
   ],
   "source": [
    "n = ToastNotifier()\n",
    "n.show_toast(\"US80 Attchemnts Notification\", f\"{len(unique_values)} Attachments Saved !!\", duration=10)"
   ]
  },
  {
   "cell_type": "code",
   "execution_count": 13,
   "id": "11a51bf1",
   "metadata": {},
   "outputs": [
    {
     "name": "stdout",
     "output_type": "stream",
     "text": [
      "All The Vendor Files were saved into US80_Forecast_Attachments folder at : 01-Feb-2022 17-49-40\n"
     ]
    }
   ],
   "source": [
    "print(\"All The Vendor Files were saved into US80_Forecast_Attachments folder at :\",datetime.datetime.now().strftime(\"%d-%b-%Y %H-%M-%S\"))"
   ]
  },
  {
   "cell_type": "code",
   "execution_count": null,
   "id": "6d6874b6",
   "metadata": {},
   "outputs": [],
   "source": []
  }
 ],
 "metadata": {
  "kernelspec": {
   "display_name": "Python 3 (ipykernel)",
   "language": "python",
   "name": "python3"
  },
  "language_info": {
   "codemirror_mode": {
    "name": "ipython",
    "version": 3
   },
   "file_extension": ".py",
   "mimetype": "text/x-python",
   "name": "python",
   "nbconvert_exporter": "python",
   "pygments_lexer": "ipython3",
   "version": "3.9.7"
  }
 },
 "nbformat": 4,
 "nbformat_minor": 5
}
